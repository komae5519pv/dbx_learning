{
 "cells": [
  {
   "cell_type": "code",
   "execution_count": 0,
   "metadata": {
    "application/vnd.databricks.v1+cell": {
     "cellMetadata": {},
     "inputWidgets": {},
     "nuid": "f823129a-d7b0-449f-9237-e3ecd430e63d",
     "showTitle": false,
     "tableResultSettingsMap": {},
     "title": ""
    }
   },
   "outputs": [],
   "source": [
    "SELECT \n",
    "  ds,\n",
    "  vm,\n",
    "  item,\n",
    "  y,\n",
    "  ai_query(\n",
    "    'demand_forecast_automl',\n",
    "    named_struct(\n",
    "      \"ds\", ds,\n",
    "      \"vm\", vm,\n",
    "      \"item\", item\n",
    "    )\n",
    "  ).yhat AS prediction\n",
    "FROM komae_demo_v1.demand_forecast.silver_inference_input\n",
    "WHERE\n",
    "  ds > '2016-12-31'"
   ]
  }
 ],
 "metadata": {
  "application/vnd.databricks.v1+notebook": {
   "computePreferences": null,
   "dashboards": [],
   "environmentMetadata": null,
   "inputWidgetPreferences": null,
   "language": "sql",
   "notebookMetadata": {
    "sqlQueryOptions": {
     "applyAutoLimit": true,
     "catalog": "hive_metastore",
     "schema": "default"
    }
   },
   "notebookName": "ai_query_demand_forecasting.dbquery.ipynb",
   "widgets": {}
  },
  "language_info": {
   "name": "sql"
  }
 },
 "nbformat": 4,
 "nbformat_minor": 0
}
